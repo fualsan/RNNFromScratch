{
 "cells": [
  {
   "cell_type": "markdown",
   "id": "afb1107d-9a96-4d47-ab3e-0582fd89827d",
   "metadata": {},
   "source": [
    "# Vanilla Recurrent Neural Network Implementation from Scratch in PyTorch\n",
    "## This notebook implements the most basic RNN\r\n"
   ]
  },
  {
   "cell_type": "code",
   "execution_count": 1,
   "id": "b1b2358b-d53a-43e3-9d26-d38b8f7649d3",
   "metadata": {},
   "outputs": [],
   "source": [
    "import torch\n",
    "import torch.nn as nn\n",
    "import torch.nn.functional as F\n",
    "\n",
    "import os\n",
    "import random\n",
    "import numpy as np\n",
    "\n",
    "import matplotlib.pyplot as plt\n",
    "\n",
    "plt.rcParams['figure.figsize'] = (6, 4)\n",
    "plt.rcParams['axes.grid'] = True"
   ]
  },
  {
   "cell_type": "markdown",
   "id": "a743a1f6-d57a-490e-9ac0-bb41ff95a352",
   "metadata": {},
   "source": [
    "# Synthetic Data"
   ]
  },
  {
   "cell_type": "code",
   "execution_count": 2,
   "id": "db563c03-1ee8-417d-926e-ddd837b766bd",
   "metadata": {},
   "outputs": [
    {
     "data": {
      "text/plain": [
       "[<matplotlib.lines.Line2D at 0x7ffbd0208bb0>]"
      ]
     },
     "execution_count": 2,
     "metadata": {},
     "output_type": "execute_result"
    },
    {
     "data": {
      "image/png": "[encoded data removed]",
      "text/plain": [
       "<Figure size 600x400 with 1 Axes>"
      ]
     },
     "metadata": {},
     "output_type": "display_data"
    }
   ],
   "source": [
    "x = torch.linspace(0.0, 2.0, 200)\n",
    "#freq = 1.0\n",
    "#y = torch.sin(2*torch.pi*freq*x)\n",
    "\n",
    "y = x**2\n",
    "\n",
    "plt.plot(x.tolist(), y.tolist())"
   ]
  },
  {
   "cell_type": "code",
   "execution_count": 3,
   "id": "d88f8373-2896-4644-bbab-5f5a912892d5",
   "metadata": {},
   "outputs": [
    {
     "data": {
      "text/plain": [
       "torch.Size([200])"
      ]
     },
     "execution_count": 3,
     "metadata": {},
     "output_type": "execute_result"
    }
   ],
   "source": [
    "y.shape"
   ]
  },
  {
   "cell_type": "code",
   "execution_count": 4,
   "id": "459f6da8-698f-471f-9282-18286479e553",
   "metadata": {},
   "outputs": [
    {
     "data": {
      "text/plain": [
       "torch.Size([1, 200])"
      ]
     },
     "execution_count": 4,
     "metadata": {},
     "output_type": "execute_result"
    }
   ],
   "source": [
    "y.unsqueeze(0).shape"
   ]
  },
  {
   "cell_type": "markdown",
   "id": "66106ad6-4eb2-45ea-9534-769a64bc23c1",
   "metadata": {},
   "source": [
    "# Model"
   ]
  },
  {
   "cell_type": "code",
   "execution_count": 5,
   "id": "99613202-53e5-4906-98d6-eead68a9d14c",
   "metadata": {},
   "outputs": [],
   "source": [
    "class VanillaRNN(nn.Module):\n",
    "    def __init__(self, input_features_size, hidden_size, output_features_size):\n",
    "        super().__init__()\n",
    "        \n",
    "        self.input_to_hidden = nn.Linear(input_features_size+hidden_size, hidden_size)\n",
    "        self.input_to_output = nn.Linear(input_features_size+hidden_size, output_features_size)\n",
    "        #self.act_fn = nn.ReLU()\n",
    "        self.act_fn = nn.Tanh()\n",
    "\n",
    "    def forward(self, x, hidden_state):\n",
    "        # (BATCH_SIZE, SEQ_LEN, FEATURES)\n",
    "        seq_len = x.shape[1]\n",
    "\n",
    "        output_history = []\n",
    "        \n",
    "        # loop through seqeunce of time series features\n",
    "        for i in range(seq_len):\n",
    "            # x[:, i, :] -> # (BATCH_SIZE, FEATURES)\n",
    "            concat = torch.cat((x[:, i, :], hidden_state), dim=1)            \n",
    "            hidden_state = self.act_fn(self.input_to_hidden(concat))\n",
    "            output = self.input_to_output(concat)\n",
    "\n",
    "            # Add dummy sequence dimension (required to concat)\n",
    "            # (BATCH_SIZE, FEATURES) -> (BATCH_SIZE, 1, FEATURES)\n",
    "            output_history.append(output.unsqueeze(1))\n",
    "\n",
    "        # Concant on sequence dimension\n",
    "        output = torch.cat(output_history, dim=1)\n",
    "        return output, hidden_state"
   ]
  },
  {
   "cell_type": "code",
   "execution_count": 6,
   "id": "5e687cff-d3f6-4757-a352-3ad9cccf0eab",
   "metadata": {},
   "outputs": [],
   "source": [
    "INPUT_FEATURES_SIZE = 1\n",
    "HIDDEN_SIZE = 128\n",
    "OUTPUT_FEATURES_SIZE = 1\n",
    "\n",
    "BATCH_SIZE = 32\n",
    "SEQ_LEN = 10\n",
    "FEATURES_SIZE = 1"
   ]
  },
  {
   "cell_type": "code",
   "execution_count": 7,
   "id": "2e62a5b6-6a2a-4bf6-82ac-b7564ff34352",
   "metadata": {},
   "outputs": [],
   "source": [
    "rnn = VanillaRNN(INPUT_FEATURES_SIZE, HIDDEN_SIZE, OUTPUT_FEATURES_SIZE)"
   ]
  },
  {
   "cell_type": "code",
   "execution_count": 8,
   "id": "8be2e080-45e8-4a64-acc1-373d17ad0ac3",
   "metadata": {},
   "outputs": [
    {
     "data": {
      "text/plain": [
       "(torch.Size([32, 10, 1]), torch.Size([32, 128]))"
      ]
     },
     "execution_count": 8,
     "metadata": {},
     "output_type": "execute_result"
    }
   ],
   "source": [
    "hidden_state = torch.zeros(BATCH_SIZE, HIDDEN_SIZE)\n",
    "dummy_data = torch.randn(BATCH_SIZE, SEQ_LEN, FEATURES_SIZE)\n",
    "            \n",
    "o, h = rnn(dummy_data, hidden_state)\n",
    "o.shape, h.shape"
   ]
  },
  {
   "cell_type": "markdown",
   "id": "4b42fd9c-ba8c-4453-9f2c-28298878cc78",
   "metadata": {},
   "source": [
    "# Add dummy batch and features dimension"
   ]
  },
  {
   "cell_type": "code",
   "execution_count": 9,
   "id": "e7ad354d-f77e-49a5-b3ec-5da382d9cd8f",
   "metadata": {},
   "outputs": [
    {
     "data": {
      "text/plain": [
       "torch.Size([1, 200, 1])"
      ]
     },
     "execution_count": 9,
     "metadata": {},
     "output_type": "execute_result"
    }
   ],
   "source": [
    "y_dummy = y.unsqueeze(0).unsqueeze(2)\n",
    "y_dummy.shape"
   ]
  },
  {
   "cell_type": "markdown",
   "id": "b9a7c5e5-4670-4edd-9cc6-c76c377d3cf4",
   "metadata": {},
   "source": [
    "# Process all the sequence at once"
   ]
  },
  {
   "cell_type": "code",
   "execution_count": 10,
   "id": "1d4fe8b7-0fbe-4b66-9616-8c737ac3bbf1",
   "metadata": {},
   "outputs": [
    {
     "data": {
      "text/plain": [
       "torch.Size([1, 200, 1])"
      ]
     },
     "execution_count": 10,
     "metadata": {},
     "output_type": "execute_result"
    }
   ],
   "source": [
    "hidden_state = torch.zeros(1, HIDDEN_SIZE)\n",
    "\n",
    "o, h = rnn(y_dummy, hidden_state)\n",
    "o.shape"
   ]
  },
  {
   "cell_type": "markdown",
   "id": "abe73799-51e8-454f-80a6-d638f3c35d72",
   "metadata": {},
   "source": [
    "# Sliding Window \n",
    "*  **NOTE: \"LAGS + FORECAST = WINDOW_SIZE\" MUST HOLD**"
   ]
  },
  {
   "cell_type": "code",
   "execution_count": 11,
   "id": "8fbed12d-7c20-46f0-9524-165a104945a1",
   "metadata": {},
   "outputs": [],
   "source": [
    "WINDOW_SIZE = 10\n",
    "CUSTOM_STEP_SIZE = 5\n",
    "\n",
    "LAGS_STEPS = 9\n",
    "FORECAST_STEPS = 1"
   ]
  },
  {
   "cell_type": "markdown",
   "id": "1f5fb9b7-5bfe-48dd-886c-c378cf6686cd",
   "metadata": {},
   "source": [
    "### Slide Methods"
   ]
  },
  {
   "cell_type": "code",
   "execution_count": 12,
   "id": "93f7177f-baed-4f99-8ca3-95ea902104c9",
   "metadata": {},
   "outputs": [],
   "source": [
    "# y_dummy.shape[1] -> Sequence length\n",
    "single_step = range(0, y_dummy.shape[1]-WINDOW_SIZE+1, 1)\n",
    "window_step = range(0, y_dummy.shape[1]-WINDOW_SIZE+1, WINDOW_SIZE)\n",
    "custom_step = range(0, y_dummy.shape[1]-WINDOW_SIZE+1, CUSTOM_STEP_SIZE)"
   ]
  },
  {
   "cell_type": "code",
   "execution_count": 13,
   "id": "40e09ef3-6d3d-4de8-9321-416e400d6d92",
   "metadata": {},
   "outputs": [
    {
     "name": "stdout",
     "output_type": "stream",
     "text": [
      "Start: 0, End: 10\n",
      "Lag: torch.Size([1, 9, 1]), torch.Size([1, 1, 1])\n",
      "Start: 10, End: 20\n",
      "Lag: torch.Size([1, 9, 1]), torch.Size([1, 1, 1])\n",
      "Start: 20, End: 30\n",
      "Lag: torch.Size([1, 9, 1]), torch.Size([1, 1, 1])\n",
      "Start: 30, End: 40\n",
      "Lag: torch.Size([1, 9, 1]), torch.Size([1, 1, 1])\n",
      "Start: 40, End: 50\n",
      "Lag: torch.Size([1, 9, 1]), torch.Size([1, 1, 1])\n",
      "Start: 50, End: 60\n",
      "Lag: torch.Size([1, 9, 1]), torch.Size([1, 1, 1])\n",
      "Start: 60, End: 70\n",
      "Lag: torch.Size([1, 9, 1]), torch.Size([1, 1, 1])\n",
      "Start: 70, End: 80\n",
      "Lag: torch.Size([1, 9, 1]), torch.Size([1, 1, 1])\n",
      "Start: 80, End: 90\n",
      "Lag: torch.Size([1, 9, 1]), torch.Size([1, 1, 1])\n",
      "Start: 90, End: 100\n",
      "Lag: torch.Size([1, 9, 1]), torch.Size([1, 1, 1])\n",
      "Start: 100, End: 110\n",
      "Lag: torch.Size([1, 9, 1]), torch.Size([1, 1, 1])\n",
      "Start: 110, End: 120\n",
      "Lag: torch.Size([1, 9, 1]), torch.Size([1, 1, 1])\n",
      "Start: 120, End: 130\n",
      "Lag: torch.Size([1, 9, 1]), torch.Size([1, 1, 1])\n",
      "Start: 130, End: 140\n",
      "Lag: torch.Size([1, 9, 1]), torch.Size([1, 1, 1])\n",
      "Start: 140, End: 150\n",
      "Lag: torch.Size([1, 9, 1]), torch.Size([1, 1, 1])\n",
      "Start: 150, End: 160\n",
      "Lag: torch.Size([1, 9, 1]), torch.Size([1, 1, 1])\n",
      "Start: 160, End: 170\n",
      "Lag: torch.Size([1, 9, 1]), torch.Size([1, 1, 1])\n",
      "Start: 170, End: 180\n",
      "Lag: torch.Size([1, 9, 1]), torch.Size([1, 1, 1])\n",
      "Start: 180, End: 190\n",
      "Lag: torch.Size([1, 9, 1]), torch.Size([1, 1, 1])\n",
      "Start: 190, End: 200\n",
      "Lag: torch.Size([1, 9, 1]), torch.Size([1, 1, 1])\n"
     ]
    }
   ],
   "source": [
    "for start_index in window_step:\n",
    "    print(f'Start: {start_index}, End: {start_index+WINDOW_SIZE}')\n",
    "\n",
    "    # Slice window from data \n",
    "    data_window = y_dummy[:, start_index:start_index+WINDOW_SIZE, :]\n",
    "\n",
    "    # Split current window into lags and forecast\n",
    "    data_lag = data_window[:, :LAGS_STEPS, :]\n",
    "    data_forecast = data_window[:, -FORECAST_STEPS:, :]\n",
    "\n",
    "    print(f'Lag: {data_lag.shape}, {data_forecast.shape}')"
   ]
  },
  {
   "cell_type": "code",
   "execution_count": 14,
   "id": "d2bbf3c4-8fee-4707-b3b2-645a98490714",
   "metadata": {},
   "outputs": [
    {
     "data": {
      "text/plain": [
       "tensor([[[3.6464],\n",
       "         [3.6849],\n",
       "         [3.7235],\n",
       "         [3.7624],\n",
       "         [3.8015],\n",
       "         [3.8408],\n",
       "         [3.8803],\n",
       "         [3.9200],\n",
       "         [3.9599],\n",
       "         [4.0000]]])"
      ]
     },
     "execution_count": 14,
     "metadata": {},
     "output_type": "execute_result"
    }
   ],
   "source": [
    "data_window"
   ]
  },
  {
   "cell_type": "code",
   "execution_count": 15,
   "id": "9e8f9652-69dd-4493-ab27-fb5f324ec99b",
   "metadata": {},
   "outputs": [
    {
     "data": {
      "text/plain": [
       "tensor([[[3.6464],\n",
       "         [3.6849],\n",
       "         [3.7235],\n",
       "         [3.7624],\n",
       "         [3.8015],\n",
       "         [3.8408],\n",
       "         [3.8803],\n",
       "         [3.9200],\n",
       "         [3.9599]]])"
      ]
     },
     "execution_count": 15,
     "metadata": {},
     "output_type": "execute_result"
    }
   ],
   "source": [
    "data_window[:, :LAGS_STEPS, :]"
   ]
  },
  {
   "cell_type": "code",
   "execution_count": 16,
   "id": "d14beac4-7ef3-4e98-a6e8-d48e3dbdf821",
   "metadata": {},
   "outputs": [
    {
     "data": {
      "text/plain": [
       "tensor([[[4.]]])"
      ]
     },
     "execution_count": 16,
     "metadata": {},
     "output_type": "execute_result"
    }
   ],
   "source": [
    "data_window[:, -FORECAST_STEPS:, :]"
   ]
  },
  {
   "cell_type": "markdown",
   "id": "e0556653-35d1-403f-80a6-d63f129efcab",
   "metadata": {},
   "source": [
    "# Multilayer Autoregressive RNN"
   ]
  },
  {
   "cell_type": "code",
   "execution_count": 17,
   "id": "f35776f4-9541-4bef-a829-a484a71cb743",
   "metadata": {},
   "outputs": [],
   "source": [
    "class AutoregressiveRNN(nn.Module):\n",
    "    def __init__(self, input_features_size, hidden_size, output_features_size, forecast_size, num_layers):\n",
    "        super().__init__()\n",
    "        self.hidden_size = hidden_size\n",
    "        self.forecast_size = forecast_size\n",
    "        self.num_layers = num_layers\n",
    "\n",
    "        self.rnn_layers = nn.ModuleList([\n",
    "            VanillaRNN(input_features_size, hidden_size, output_features_size)\n",
    "            for _ in range(num_layers)\n",
    "        ])\n",
    "    \n",
    "    def forward(self, x, hidden_state):\n",
    "        # (BATCH_SIZE, SEQ_LEN, FEATURES)\n",
    "\n",
    "        for layer in self.rnn_layers:\n",
    "            x, hidden_state = layer(x, hidden_state)\n",
    "\n",
    "        # Slice forecast\n",
    "        x = x[:, -self.forecast_size:, :]\n",
    "        \n",
    "        return x, hidden_state"
   ]
  },
  {
   "cell_type": "markdown",
   "id": "f5231fa4-4c79-46d8-be04-b1f959088b19",
   "metadata": {},
   "source": [
    "### Initialized Model with Hyperparameters"
   ]
  },
  {
   "cell_type": "code",
   "execution_count": 18,
   "id": "1696a632-b5df-4ee8-b590-7585b1dc7b28",
   "metadata": {},
   "outputs": [
    {
     "data": {
      "text/plain": [
       "torch.Size([1, 1, 1])"
      ]
     },
     "execution_count": 18,
     "metadata": {},
     "output_type": "execute_result"
    }
   ],
   "source": [
    "BATCH_SIZE = 1\n",
    "INPUT_FEATURES_SIZE = 1\n",
    "HIDDEN_SIZE = 128\n",
    "OUTPUT_FEATURES_SIZE = 1\n",
    "WINDOW_SIZE = 10\n",
    "LAGS_STEPS = 9\n",
    "FORECAST_STEPS = 1\n",
    "NUM_LAYERS = 2\n",
    "\n",
    "model = AutoregressiveRNN(\n",
    "    input_features_size=INPUT_FEATURES_SIZE,\n",
    "    hidden_size=HIDDEN_SIZE,\n",
    "    output_features_size=OUTPUT_FEATURES_SIZE,\n",
    "    forecast_size=FORECAST_STEPS,\n",
    "    num_layers=NUM_LAYERS\n",
    ")\n",
    "\n",
    "hidden_state = torch.zeros(BATCH_SIZE, HIDDEN_SIZE)\n",
    "\n",
    "o, h = model(y_dummy, hidden_state)\n",
    "# (BATCH_SIZE, FORECAST_STEPS, OUTPUT_FEATURES_SIZE)\n",
    "o.shape"
   ]
  },
  {
   "cell_type": "markdown",
   "id": "a481fc55-1a0b-480a-afeb-e316eef8133e",
   "metadata": {},
   "source": [
    "### Number of parameters"
   ]
  },
  {
   "cell_type": "code",
   "execution_count": 19,
   "id": "66aea2e7-7cc0-41a4-98d9-abbfe855f0ba",
   "metadata": {},
   "outputs": [],
   "source": [
    "def print_model_parameters(model):\n",
    "    print(f'{sum(p.numel() for p in model.parameters()):,}')"
   ]
  },
  {
   "cell_type": "code",
   "execution_count": 20,
   "id": "250ac969-c12d-4271-9836-ae00d34c78f9",
   "metadata": {},
   "outputs": [
    {
     "name": "stdout",
     "output_type": "stream",
     "text": [
      "Number of parameters:\n",
      "33,540\n"
     ]
    }
   ],
   "source": [
    "print('Number of parameters:')\n",
    "print_model_parameters(model)"
   ]
  },
  {
   "cell_type": "markdown",
   "id": "30903f43-0d29-4ffc-b804-1bc6bd24be7b",
   "metadata": {},
   "source": [
    "# Training With Synthetic Data"
   ]
  },
  {
   "cell_type": "markdown",
   "id": "fba783f6-0b01-4a45-add2-4cd89b7e62a7",
   "metadata": {},
   "source": [
    "### Train/Test Split"
   ]
  },
  {
   "cell_type": "code",
   "execution_count": 21,
   "id": "5ccdaaa6-c1d5-42ad-a66f-6c3539a4ab73",
   "metadata": {},
   "outputs": [
    {
     "data": {
      "text/plain": [
       "(160, 40)"
      ]
     },
     "execution_count": 21,
     "metadata": {},
     "output_type": "execute_result"
    }
   ],
   "source": [
    "SPLIT_RATIO = 0.8\n",
    "\n",
    "# y_dummy.shape[1] -> len(full_dataset)\n",
    "train_size = int(SPLIT_RATIO * y_dummy.shape[1])\n",
    "test_size = y_dummy.shape[1] - train_size\n",
    "\n",
    "train_size, test_size"
   ]
  },
  {
   "cell_type": "code",
   "execution_count": 22,
   "id": "f098f3c5-0cd2-4d64-8ff3-de5b85d28d0f",
   "metadata": {},
   "outputs": [
    {
     "data": {
      "text/plain": [
       "<matplotlib.legend.Legend at 0x7ffabbea76d0>"
      ]
     },
     "execution_count": 22,
     "metadata": {},
     "output_type": "execute_result"
    },
    {
     "data": {
      "image/png": "[encoded data removed]",
      "text/plain": [
       "<Figure size 600x400 with 1 Axes>"
      ]
     },
     "metadata": {},
     "output_type": "display_data"
    }
   ],
   "source": [
    "train_dataset = y_dummy[:, :train_size, :]\n",
    "test_dataset = y_dummy[:, -test_size:, :]\n",
    "x_train = x[:train_size]\n",
    "x_test = x[-test_size:]\n",
    "\n",
    "plt.plot(x_train, train_dataset[0, :, 0], c='blue', label='training')\n",
    "plt.plot(x_test, test_dataset[0, :, 0], c='red', label='test')\n",
    "plt.legend()"
   ]
  },
  {
   "cell_type": "markdown",
   "id": "fab6e06b-cc55-4635-aeb1-07a681a70a29",
   "metadata": {},
   "source": [
    "### Training Functions"
   ]
  },
  {
   "cell_type": "code",
   "execution_count": 23,
   "id": "1d423e6a-1301-47b9-b906-55104dad5521",
   "metadata": {},
   "outputs": [],
   "source": [
    "def train_iter(model, data, optimizer, criterion, step_iterator, device, batch_size, hidden_size, window_size, lag_steps, forecast_steps):\n",
    "    model.train()\n",
    "\n",
    "    avg_loss = []\n",
    "    \n",
    "    hidden_state = torch.zeros(batch_size, hidden_size)\n",
    "\n",
    "    for start_index in step_iterator:\n",
    "\n",
    "        optimizer.zero_grad()\n",
    "        \n",
    "        # Slice window from data \n",
    "        data_window = data[:, start_index:start_index+window_size, :]\n",
    "\n",
    "        # FIXME: LAST EMPTY WINDOW\n",
    "        if data_window.shape[1] <= 0:\n",
    "            continue\n",
    "            \n",
    "        # Split current window into lags and forecast\n",
    "        data_lag = data_window[:, :lag_steps, :].to(device)\n",
    "        data_forecast = data_window[:, -forecast_steps:, :].to(device)\n",
    "    \n",
    "        forecast_pred, h = model(data_lag, hidden_state)\n",
    "        \n",
    "        loss = criterion(forecast_pred, data_forecast)\n",
    "        \n",
    "        loss.backward()\n",
    "        optimizer.step()\n",
    "\n",
    "        avg_loss.append(loss.item())\n",
    "\n",
    "    return sum(avg_loss) / len(avg_loss)\n",
    "\n",
    "\n",
    "@torch.no_grad()\n",
    "def eval_iter(model, data, criterion, step_iterator, device, batch_size, hidden_size, window_size, lag_steps, forecast_steps):\n",
    "    model.eval()\n",
    "\n",
    "    avg_loss = []\n",
    "    predictions = []\n",
    "    \n",
    "    hidden_state = torch.zeros(batch_size, hidden_size)\n",
    "\n",
    "    for start_index in step_iterator:\n",
    "        \n",
    "        # Slice window from data \n",
    "        data_window = data[:, start_index:start_index+window_size, :]\n",
    "\n",
    "        # FIXME: LAST EMPTY WINDOW\n",
    "        if data_window.shape[1] <= 0:\n",
    "            continue\n",
    "    \n",
    "        # Split current window into lags and forecast\n",
    "        data_lag = data_window[:, :lag_steps, :].to(device)\n",
    "        data_forecast = data_window[:, -forecast_steps:, :].to(device)\n",
    "    \n",
    "        forecast_pred, h = model(data_lag, hidden_state)\n",
    "        \n",
    "        loss = criterion(forecast_pred, data_forecast)\n",
    "        \n",
    "        avg_loss.append(loss.item())\n",
    "        predictions.append(forecast_pred)\n",
    "\n",
    "    return sum(avg_loss) / len(avg_loss), predictions"
   ]
  },
  {
   "cell_type": "markdown",
   "id": "19f3e836-bd62-4e58-840a-18a5db7dec44",
   "metadata": {},
   "source": [
    "### Start Training"
   ]
  },
  {
   "cell_type": "code",
   "execution_count": 24,
   "id": "971fe8bc-81fe-4a2d-ae7b-0dc7ff65d9c7",
   "metadata": {},
   "outputs": [],
   "source": [
    "LEARNING_RATE = 0.001\n",
    "\n",
    "optimizer = torch.optim.AdamW(\n",
    "    model.parameters(),\n",
    "    lr=LEARNING_RATE\n",
    ")\n",
    "\n",
    "# LOSS\n",
    "criterion = nn.MSELoss()\n",
    "\n",
    "#device = 'cuda' if torch.cuda.is_available() else 'cpu'\n",
    "#print(f'USING DEVICE: {device}')\n",
    "\n",
    "device = 'cpu'"
   ]
  },
  {
   "cell_type": "code",
   "execution_count": 25,
   "id": "a86f98b9-3175-4d0c-855a-f054321d2f86",
   "metadata": {},
   "outputs": [
    {
     "name": "stdout",
     "output_type": "stream",
     "text": [
      "Training loss: 0.1370, Testing Loss: 0.2223\n",
      "Training loss: 2.3969, Testing Loss: 8.0878\n",
      "Training loss: 0.7658, Testing Loss: 6.7369\n",
      "Training loss: 0.5201, Testing Loss: 4.7147\n",
      "Training loss: 0.4913, Testing Loss: 3.1700\n",
      "Training loss: 0.2476, Testing Loss: 2.2628\n",
      "Training loss: 0.1742, Testing Loss: 1.2269\n",
      "Training loss: 0.1204, Testing Loss: 0.3993\n"
     ]
    }
   ],
   "source": [
    "NUM_EPOCHS = 8\n",
    "\n",
    "model.to(device)\n",
    "\n",
    "for epoch in range(1, NUM_EPOCHS+1):\n",
    "    \n",
    "    avg_train_loss = train_iter(\n",
    "        model=model, \n",
    "        data=train_dataset, \n",
    "        optimizer=optimizer, \n",
    "        criterion=criterion, \n",
    "        step_iterator=window_step, \n",
    "        device=device, \n",
    "        batch_size=1, \n",
    "        hidden_size=HIDDEN_SIZE,\n",
    "        window_size=WINDOW_SIZE, \n",
    "        lag_steps=LAGS_STEPS, \n",
    "        forecast_steps=FORECAST_STEPS\n",
    "    )\n",
    "\n",
    "    avg_test_loss, _ = eval_iter(\n",
    "        model=model, \n",
    "        data=test_dataset, \n",
    "        criterion=criterion, \n",
    "        step_iterator=window_step, \n",
    "        device=device, \n",
    "        batch_size=1, \n",
    "        hidden_size=HIDDEN_SIZE,\n",
    "        window_size=WINDOW_SIZE, \n",
    "        lag_steps=LAGS_STEPS, \n",
    "        forecast_steps=FORECAST_STEPS,\n",
    "    )\n",
    "\n",
    "    print(f'Training loss: {avg_train_loss:.4f}, Testing Loss: {avg_test_loss:.4f}')"
   ]
  },
  {
   "cell_type": "markdown",
   "id": "88d22bf5-4588-4c5b-914b-237833db8293",
   "metadata": {},
   "source": [
    "# Testing"
   ]
  },
  {
   "cell_type": "code",
   "execution_count": 26,
   "id": "bf1ca0b4-2951-452a-b0da-2dd19717944d",
   "metadata": {},
   "outputs": [
    {
     "data": {
      "text/plain": [
       "<matplotlib.legend.Legend at 0x7ffab8747cd0>"
      ]
     },
     "execution_count": 26,
     "metadata": {},
     "output_type": "execute_result"
    },
    {
     "data": {
      "image/png": "[encoded data removed]",
      "text/plain": [
       "<Figure size 600x400 with 1 Axes>"
      ]
     },
     "metadata": {},
     "output_type": "display_data"
    }
   ],
   "source": [
    "_, pred = eval_iter(\n",
    "    model=model, \n",
    "    data=test_dataset, \n",
    "    criterion=criterion, \n",
    "    step_iterator=single_step, \n",
    "    device=device, \n",
    "    batch_size=1, \n",
    "    hidden_size=HIDDEN_SIZE,\n",
    "    window_size=WINDOW_SIZE, \n",
    "    lag_steps=LAGS_STEPS, \n",
    "    forecast_steps=FORECAST_STEPS,\n",
    ")\n",
    "\n",
    "pred_flat = []\n",
    "\n",
    "for p in pred:\n",
    "    pred_flat.extend(p.flatten().tolist())\n",
    "\n",
    "plt.scatter(x_train, train_dataset[0, :, 0], c='blue', label='training')\n",
    "plt.scatter(x_test, test_dataset[0, :, 0], c='red', label='test')\n",
    "plt.scatter(x_test, pred_flat, c='green', label='prediction')\n",
    "plt.legend()"
   ]
  },
  {
   "cell_type": "code",
   "execution_count": null,
   "id": "55d99606-a846-4878-a9ef-30d1074c05d5",
   "metadata": {},
   "outputs": [],
   "source": []
  },
  {
   "cell_type": "code",
   "execution_count": null,
   "id": "3ca08c74-fc6c-48db-971d-286a0cbf68f7",
   "metadata": {},
   "outputs": [],
   "source": []
  }
 ],
 "metadata": {
  "kernelspec": {
   "display_name": "Python [conda env:pytorch] *",
   "language": "python",
   "name": "conda-env-pytorch-py"
  },
  "language_info": {
   "codemirror_mode": {
    "name": "ipython",
    "version": 3
   },
   "file_extension": ".py",
   "mimetype": "text/x-python",
   "name": "python",
   "nbconvert_exporter": "python",
   "pygments_lexer": "ipython3",
   "version": "3.10.12"
  }
 },
 "nbformat": 4,
 "nbformat_minor": 5
}
